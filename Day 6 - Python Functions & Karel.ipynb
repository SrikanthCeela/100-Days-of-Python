{
 "cells": [
  {
   "cell_type": "markdown",
   "id": "9f42f91d",
   "metadata": {},
   "source": [
    "### Functions\n",
    "\n",
    "Python functions can be categorized into several types based on their behavior and usage:\n",
    "\n",
    "1. Built-in functions: These are functions that are pre-defined in Python and readily available for use. Examples include print(), len(), range(), type(), and sum().\n",
    "\n",
    "2. User-defined functions: These functions are created by the programmer to perform specific tasks. You define them using the def keyword. They allow you to encapsulate reusable code and improve the overall structure of your program.\n",
    "\n",
    "3. Anonymous functions (lambda functions): These are small, one-line functions defined without a name. They are created using the lambda keyword and are typically used for simple and concise operations. Lambda functions are often used in conjunction with other functions like map(), filter(), and reduce().\n",
    "\n",
    "4. Recursive functions: These functions call themselves during their execution. They are useful for solving problems that can be divided into smaller, similar subproblems. Recursive functions require a base case to terminate the recursion and prevent infinite loops.\n",
    "\n",
    "5. Higher-order functions: In Python, functions are first-class objects, which means they can be assigned to variables, passed as arguments to other functions, or returned as values from other functions. Functions that operate on other functions (either by accepting functions as arguments or returning them) are called higher-order functions.\n",
    "\n",
    "6. Methods: Methods are functions that are associated with specific objects. They are defined within a class and can access and modify the object's data. Methods are called using the dot notation, such as object.method(). Examples of methods include append() for lists, upper() for strings, and sort() for lists."
   ]
  },
  {
   "cell_type": "markdown",
   "id": "cc8a0140",
   "metadata": {},
   "source": [
    "In Python, a function is a reusable block of code that performs a specific task. \n",
    "- It allows you to divide your program into smaller, more manageable parts, making your code more organized, readable, and maintainable. \n",
    "- Functions are defined using the def keyword, followed by the function name and a pair of parentheses containing optional parameters."
   ]
  },
  {
   "cell_type": "code",
   "execution_count": null,
   "id": "3a4accdb",
   "metadata": {},
   "outputs": [],
   "source": [
    "def function_name(parameter1, parameter2, ...):\n",
    "    # function body\n",
    "    # code to perform the desired task\n",
    "    return result\n"
   ]
  },
  {
   "cell_type": "markdown",
   "id": "83b1bca6",
   "metadata": {},
   "source": [
    "Let's break down the components of a function:\n",
    "\n",
    "- Function name: It is the identifier used to call the function later in your code. It should follow the same naming conventions as variable names.\n",
    "\n",
    "- Parameters: These are optional inputs that the function can accept. Parameters are enclosed in parentheses and separated by commas. They allow you to pass values to the function for it to work with. Functions can have zero or more parameters.\n",
    "\n",
    "- Function body: It consists of the code that is executed when the function is called. It defines the actions the function performs to accomplish its task.\n",
    "\n",
    "- Return statement: It specifies the value that the function should return after its execution. The return keyword is followed by the expression or variable that holds the result. If no return statement is included, the function returns None by default."
   ]
  },
  {
   "cell_type": "code",
   "execution_count": 1,
   "id": "e79acee4",
   "metadata": {},
   "outputs": [],
   "source": [
    "#example\n",
    "\n",
    "def my_function():\n",
    "    print(\"Hello\")\n",
    "    print(\"Bye\")"
   ]
  },
  {
   "cell_type": "code",
   "execution_count": 2,
   "id": "564a4172",
   "metadata": {},
   "outputs": [
    {
     "name": "stdout",
     "output_type": "stream",
     "text": [
      "Hello\n",
      "Bye\n"
     ]
    }
   ],
   "source": [
    "#calling function\n",
    "\n",
    "my_function()"
   ]
  },
  {
   "cell_type": "markdown",
   "id": "50750b84",
   "metadata": {},
   "source": [
    "### Indentation in Python\n",
    "\n",
    "In Python, indentation is a significant aspect of the language syntax and is used to define the structure and hierarchy of code blocks. It is crucial for readability and determines the grouping and execution flow of statements within control structures like loops, conditionals, functions, and classes.\n",
    "\n",
    "Python's recommended style guide, known as PEP 8, specifies that indentation should consist of four spaces per level. Although you can use tabs for indentation, it's generally advised to use spaces to ensure consistent formatting across different editors and platforms.\n",
    "\n",
    "Here's an example of how indentation is used in Python:"
   ]
  },
  {
   "cell_type": "code",
   "execution_count": null,
   "id": "4a279c29",
   "metadata": {},
   "outputs": [],
   "source": [
    "if x > 0:\n",
    "    print(\"x is positive\")  # This line is indented with four spaces\n",
    "    print(\"This is also indented\")\n",
    "else:\n",
    "    print(\"x is non-positive\")\n",
    "    print(\"This is indented in the 'else' block\")\n"
   ]
  },
  {
   "cell_type": "markdown",
   "id": "7ea63c1b",
   "metadata": {},
   "source": [
    "In the above example, the if and else blocks are indented to indicate that they are part of the respective conditions. Statements within the blocks are further indented to show they belong to those blocks.\n",
    "\n",
    "It's important to note that inconsistent indentation or mixing spaces and tabs can lead to syntax errors. Python relies on indentation to determine the structure of the code, so any deviations from the expected indentation levels can result in indentation errors or unexpected behavior."
   ]
  },
  {
   "cell_type": "markdown",
   "id": "e3c47934",
   "metadata": {},
   "source": [
    "### While Loop"
   ]
  },
  {
   "cell_type": "markdown",
   "id": "624b554f",
   "metadata": {},
   "source": [
    "In Python, a while loop is a control flow statement that allows you to repeatedly execute a block of code as long as a certain condition is true. The general syntax of a while loop in Python is as follows:"
   ]
  },
  {
   "cell_type": "code",
   "execution_count": null,
   "id": "dd948082",
   "metadata": {},
   "outputs": [],
   "source": [
    "while condition:\n",
    "    # Code block to be executed"
   ]
  },
  {
   "cell_type": "markdown",
   "id": "54a4e3b4",
   "metadata": {},
   "source": [
    "Here's how it works:\n",
    "\n",
    "1. he condition is evaluated: Before entering the loop, the condition is checked. If the condition is true, the code block inside the loop is executed. If the condition is false, the loop is skipped, and the program continues with the next statement after the loop.\n",
    "\n",
    "2. Execute the code block: If the condition is true, the code block within the loop is executed. This block of code can contain one or more statements. You should indent the code block to indicate that it is part of the loop.\n",
    "\n",
    "3. Repeat until the condition becomes false: After executing the code block, the condition is checked again. If it is still true, the loop continues, and the code block is executed again. This process repeats until the condition becomes false.\n",
    "\n",
    "It's important to ensure that the condition within the while loop eventually becomes false; otherwise, the loop will continue indefinitely, resulting in an infinite loop.\n",
    "\n",
    "Here's a simple example that demonstrates the usage of a while loop:"
   ]
  },
  {
   "cell_type": "code",
   "execution_count": 1,
   "id": "708b6cce",
   "metadata": {},
   "outputs": [
    {
     "name": "stdout",
     "output_type": "stream",
     "text": [
      "Count: 0\n",
      "Count: 1\n",
      "Count: 2\n",
      "Count: 3\n",
      "Count: 4\n"
     ]
    }
   ],
   "source": [
    "count = 0\n",
    "while count < 5:\n",
    "    print(\"Count:\", count)\n",
    "    count += 1\n"
   ]
  },
  {
   "cell_type": "markdown",
   "id": "12534baf",
   "metadata": {},
   "source": [
    "In this example, the loop will execute as long as the variable count is less than 5. The code block inside the loop will print the current value of count and then increment it by 1. The loop will repeat until count reaches 5."
   ]
  },
  {
   "cell_type": "markdown",
   "id": "c9d4d3a4",
   "metadata": {},
   "source": [
    "While loops are useful when you want to repeat a certain block of code an unknown number of times until a specific condition is met. They provide flexibility and control over the flow of your program. However, you should be cautious with while loops to avoid infinite loops and ensure that the condition is eventually satisfied."
   ]
  },
  {
   "cell_type": "code",
   "execution_count": null,
   "id": "8c49b495",
   "metadata": {},
   "outputs": [],
   "source": []
  }
 ],
 "metadata": {
  "kernelspec": {
   "display_name": "Python 3 (ipykernel)",
   "language": "python",
   "name": "python3"
  },
  "language_info": {
   "codemirror_mode": {
    "name": "ipython",
    "version": 3
   },
   "file_extension": ".py",
   "mimetype": "text/x-python",
   "name": "python",
   "nbconvert_exporter": "python",
   "pygments_lexer": "ipython3",
   "version": "3.8.10"
  },
  "toc": {
   "base_numbering": 1,
   "nav_menu": {},
   "number_sections": true,
   "sideBar": true,
   "skip_h1_title": false,
   "title_cell": "Table of Contents",
   "title_sidebar": "Contents",
   "toc_cell": false,
   "toc_position": {},
   "toc_section_display": true,
   "toc_window_display": false
  }
 },
 "nbformat": 4,
 "nbformat_minor": 5
}
