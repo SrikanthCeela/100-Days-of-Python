{
 "cells": [
  {
   "cell_type": "markdown",
   "id": "e9d51989",
   "metadata": {},
   "source": [
    "### Data Types"
   ]
  },
  {
   "cell_type": "markdown",
   "id": "4688ab75",
   "metadata": {},
   "source": [
    "<div class=\"alert alert-block alert-info\">\n",
    "In Python, data types refer to the kind of values that can be stored in a variable. Python has several built-in data types, including:\n",
    "\n",
    "    \n",
    "    \n",
    "Numeric Types: These data types represent numeric values and include integers, floats, and complex numbers.\n",
    "\n",
    "- Integer (int): Whole numbers, such as 1, 2, 3, 4, 5.\n",
    "- Float (float): Floating-point numbers, such as 3.14, 1.5, 0.01.\n",
    "- Complex (complex): Numbers with a real and imaginary part, such as 2+3j.\n",
    "\n",
    "Boolean Type: A Boolean value can only be True or False.\n",
    "\n",
    "Sequence Types: These data types represent sequences of values and include strings, lists, and tuples.\n",
    "\n",
    "- String (str): A sequence of characters, such as \"Hello, World!\".\n",
    "- List (list): A mutable ordered sequence of values, such as [1, 2, 3, 4].\n",
    "- Tuple (tuple): An immutable ordered sequence of values, such as (1, 2, 3, 4).\n",
    "\n",
    "Set Types: Sets are used to store multiple items in a single variable. Sets are unordered, and the values are unique.\n",
    "\n",
    "- Set (set): An unordered collection of unique items, such as {1, 2, 3, 4}.\n",
    "\n",
    "Mapping Types: These data types represent mappings of keys to values and include dictionaries.\n",
    "\n",
    "- Dictionary (dict): A collection of key-value pairs, such as {\"name\": \"John\", \"age\": 30}.\n",
    "</div>"
   ]
  },
  {
   "cell_type": "markdown",
   "id": "fdc8c957",
   "metadata": {},
   "source": [
    "### Primitive Data Types\n",
    "\n",
    "In Python, primitive data types are simple data types that are built into the language and are not composed of other data types. They are also sometimes referred to as basic data types. Python has several primitive data types, including:\n",
    "\n",
    "1. Numeric Types: These data types represent numeric values and include integers, floats, and complex numbers. These have been explained in detail in the previous answer.\n",
    "\n",
    "2. Boolean Type: The Boolean data type represents a logical value that can be either True or False. It is often used in conditional statements, loops, and other logical operations."
   ]
  },
  {
   "cell_type": "code",
   "execution_count": 1,
   "id": "faae99f4",
   "metadata": {},
   "outputs": [],
   "source": [
    "x = True\n",
    "y = False"
   ]
  },
  {
   "cell_type": "code",
   "execution_count": 2,
   "id": "89fb7168",
   "metadata": {},
   "outputs": [
    {
     "name": "stdout",
     "output_type": "stream",
     "text": [
      "True\n",
      "False\n"
     ]
    }
   ],
   "source": [
    "print(x)\n",
    "print(y)"
   ]
  },
  {
   "cell_type": "markdown",
   "id": "df9e5add",
   "metadata": {},
   "source": [
    "3. String Type: The string data type represents a sequence of characters enclosed in quotation marks. Strings are used to represent text data in Python. Strings can be enclosed in single quotes ('...') or double quotes (\"...\")."
   ]
  },
  {
   "cell_type": "code",
   "execution_count": 4,
   "id": "b8976d26",
   "metadata": {},
   "outputs": [],
   "source": [
    "p = 'Hello, World!'\n",
    "q = \"This is a string\""
   ]
  },
  {
   "cell_type": "code",
   "execution_count": 5,
   "id": "361a4577",
   "metadata": {},
   "outputs": [
    {
     "name": "stdout",
     "output_type": "stream",
     "text": [
      "Hello, World!\n",
      "This is a string\n"
     ]
    }
   ],
   "source": [
    "print(p)\n",
    "print(q)"
   ]
  },
  {
   "cell_type": "markdown",
   "id": "72b54b7c",
   "metadata": {},
   "source": [
    "4. None Type: The None data type represents a null or empty value. It is often used to indicate that a variable has no value or has not been assigned a value."
   ]
  },
  {
   "cell_type": "code",
   "execution_count": 6,
   "id": "9725f901",
   "metadata": {},
   "outputs": [],
   "source": [
    "X = None"
   ]
  },
  {
   "cell_type": "code",
   "execution_count": 7,
   "id": "27db5b94",
   "metadata": {},
   "outputs": [
    {
     "name": "stdout",
     "output_type": "stream",
     "text": [
      "None\n"
     ]
    }
   ],
   "source": [
    "print(X)"
   ]
  },
  {
   "cell_type": "markdown",
   "id": "502428b9",
   "metadata": {},
   "source": [
    "### Type Conversion"
   ]
  },
  {
   "cell_type": "markdown",
   "id": "2f03ad41",
   "metadata": {},
   "source": [
    "Type conversion in Python, also known as typecasting, is the process of converting a value of one data type into another data type. Python supports both implicit and explicit type conversion.\n",
    "\n",
    "1. Implicit Type Conversion:\n",
    "Implicit type conversion, also known as coercion, is performed automatically by Python when necessary. For example, if we add an integer to a floating-point number, Python will convert the integer to a floating-point number before performing the addition."
   ]
  },
  {
   "cell_type": "code",
   "execution_count": 1,
   "id": "ca1129dd",
   "metadata": {},
   "outputs": [
    {
     "name": "stdout",
     "output_type": "stream",
     "text": [
      "12.5\n"
     ]
    }
   ],
   "source": [
    "num_int = 10\n",
    "num_float = 2.5\n",
    "result = num_int + num_float\n",
    "print(result) # Output: 12.5"
   ]
  },
  {
   "cell_type": "markdown",
   "id": "306aa0f3",
   "metadata": {},
   "source": [
    "2. Explicit Type Conversion:\n",
    "Explicit type conversion is the process of converting a value of one data type into another data type using a type conversion function. In Python, we can use the following built-in functions for explicit type conversion:\n",
    "- int(): converts a value to an integer.\n",
    "- float(): converts a value to a floating-point number.\n",
    "- str(): converts a value to a string.\n",
    "- bool(): converts a value to a Boolean value.\n",
    "\n",
    "For example, we can convert an integer to a string using the str() function:"
   ]
  },
  {
   "cell_type": "code",
   "execution_count": 2,
   "id": "603ca577",
   "metadata": {},
   "outputs": [
    {
     "name": "stdout",
     "output_type": "stream",
     "text": [
      "10\n"
     ]
    }
   ],
   "source": [
    "num_int = 10\n",
    "num_str = str(num_int)\n",
    "print(num_str) # Output: '10'"
   ]
  },
  {
   "cell_type": "code",
   "execution_count": 3,
   "id": "e23955bc",
   "metadata": {},
   "outputs": [
    {
     "data": {
      "text/plain": [
       "str"
      ]
     },
     "execution_count": 3,
     "metadata": {},
     "output_type": "execute_result"
    }
   ],
   "source": [
    "type(num_str)"
   ]
  },
  {
   "cell_type": "markdown",
   "id": "ce3f3e04",
   "metadata": {},
   "source": [
    "We can also convert a string to an integer using the int() function:"
   ]
  },
  {
   "cell_type": "code",
   "execution_count": 4,
   "id": "b2c509dc",
   "metadata": {},
   "outputs": [
    {
     "name": "stdout",
     "output_type": "stream",
     "text": [
      "10\n"
     ]
    }
   ],
   "source": [
    "num_str = '10'\n",
    "num_int = int(num_str)\n",
    "print(num_int) # Output: 10"
   ]
  },
  {
   "cell_type": "code",
   "execution_count": 5,
   "id": "2b62c8f8",
   "metadata": {},
   "outputs": [
    {
     "data": {
      "text/plain": [
       "int"
      ]
     },
     "execution_count": 5,
     "metadata": {},
     "output_type": "execute_result"
    }
   ],
   "source": [
    "type(num_int)"
   ]
  },
  {
   "cell_type": "markdown",
   "id": "6cdecea8",
   "metadata": {},
   "source": [
    "It's important to note that some type conversions may result in data loss or errors. \n",
    "\n",
    "For example, converting a floating-point number to an integer using the int() function will truncate the decimal portion of the number, potentially resulting in data loss. \n",
    "\n",
    "Additionally, converting a string that cannot be interpreted as a number to an integer or floating-point number will result in a ValueError exception."
   ]
  },
  {
   "cell_type": "code",
   "execution_count": 6,
   "id": "04d83c49",
   "metadata": {},
   "outputs": [
    {
     "name": "stdout",
     "output_type": "stream",
     "text": [
      "Your Name? \tsrikanth\n",
      "Your name has 8 characters\n"
     ]
    }
   ],
   "source": [
    "name = len(input(\"Your Name? \\t\"))\n",
    "\n",
    "print(\"Your name has \" + str(name) + \" characters\")"
   ]
  },
  {
   "cell_type": "markdown",
   "id": "f2773ca7",
   "metadata": {},
   "source": [
    "### Exercise: Write a program that adds the digits in a 2 digit number\n",
    " Example: If input is 35, then output should be 3 + 5 = 8"
   ]
  },
  {
   "cell_type": "code",
   "execution_count": 8,
   "id": "96a4d2e1",
   "metadata": {},
   "outputs": [
    {
     "name": "stdout",
     "output_type": "stream",
     "text": [
      "Type you 2 digit number to add\t48\n",
      "12\n"
     ]
    }
   ],
   "source": [
    "two_digit_number = input(\"Type you 2 digit number to add\\t\")\n",
    "\n",
    "first_digit = two_digit_number[0]\n",
    "second_digit = two_digit_number[1]\n",
    "\n",
    "result = int(first_digit) + int(second_digit)\n",
    "\n",
    "print(result)"
   ]
  },
  {
   "cell_type": "markdown",
   "id": "8f5775a3",
   "metadata": {},
   "source": [
    "### Mathematical Operations Order\n",
    "\n",
    "In Python, mathematical operations are performed using the standard order of operations, also known as PEMDAS (Parentheses, Exponents, Multiplication and Division, Addition and Subtraction).\n",
    "\n",
    "The order of operations determines the sequence in which mathematical operations are executed. The order of operations is as follows:\n",
    "\n",
    "1. Parentheses: expressions within parentheses are evaluated first.\n",
    "\n",
    "2. Exponents: exponentiation is performed next.\n",
    "\n",
    "3. Multiplication and Division: multiplication and division are performed from left to right.\n",
    "\n",
    "4. Addition and Subtraction: addition and subtraction are performed from left to right.\n",
    "\n",
    "For example, consider the following expression:"
   ]
  },
  {
   "cell_type": "code",
   "execution_count": 9,
   "id": "e59ecb1d",
   "metadata": {},
   "outputs": [],
   "source": [
    "result = 10 + 5 * 2 ** 3 / 4"
   ]
  },
  {
   "cell_type": "markdown",
   "id": "0cee4ef1",
   "metadata": {},
   "source": [
    "Here, the order of operations is as follows:\n",
    "\n",
    "1. First, the expression inside the parentheses is evaluated:"
   ]
  },
  {
   "cell_type": "code",
   "execution_count": 11,
   "id": "c0a3864a",
   "metadata": {},
   "outputs": [
    {
     "data": {
      "text/plain": [
       "8"
      ]
     },
     "execution_count": 11,
     "metadata": {},
     "output_type": "execute_result"
    }
   ],
   "source": [
    "2 ** 3"
   ]
  },
  {
   "cell_type": "markdown",
   "id": "fdb996ca",
   "metadata": {},
   "source": [
    "2. Next, multiplication and division are performed from left to right:"
   ]
  },
  {
   "cell_type": "code",
   "execution_count": 12,
   "id": "cfbf30ac",
   "metadata": {},
   "outputs": [
    {
     "data": {
      "text/plain": [
       "40"
      ]
     },
     "execution_count": 12,
     "metadata": {},
     "output_type": "execute_result"
    }
   ],
   "source": [
    "5 * 8"
   ]
  },
  {
   "cell_type": "code",
   "execution_count": 13,
   "id": "fa15cbb5",
   "metadata": {},
   "outputs": [
    {
     "data": {
      "text/plain": [
       "10.0"
      ]
     },
     "execution_count": 13,
     "metadata": {},
     "output_type": "execute_result"
    }
   ],
   "source": [
    "40/4"
   ]
  },
  {
   "cell_type": "markdown",
   "id": "1f9573aa",
   "metadata": {},
   "source": [
    "3. Finally, addition is performed:"
   ]
  },
  {
   "cell_type": "code",
   "execution_count": 14,
   "id": "48c205f9",
   "metadata": {},
   "outputs": [
    {
     "data": {
      "text/plain": [
       "20"
      ]
     },
     "execution_count": 14,
     "metadata": {},
     "output_type": "execute_result"
    }
   ],
   "source": [
    "10 + 10"
   ]
  },
  {
   "cell_type": "markdown",
   "id": "affe3f43",
   "metadata": {},
   "source": [
    "Therefore, the final value of result is 20.\n",
    "\n",
    "It's important to note that the order of operations can be changed using parentheses. Expressions inside parentheses are always evaluated first, regardless of the order of operations. For example:"
   ]
  },
  {
   "cell_type": "code",
   "execution_count": 15,
   "id": "4b8ea014",
   "metadata": {},
   "outputs": [],
   "source": [
    "result = (10 + 5) * 2  # evaluates to 30"
   ]
  },
  {
   "cell_type": "markdown",
   "id": "3c68c656",
   "metadata": {},
   "source": [
    "In this example, the addition inside the parentheses is performed first, resulting in 15. The multiplication is then performed, resulting in 30."
   ]
  },
  {
   "attachments": {
    "image.png": {
     "image/png": "[encoded data removed]"
    }
   },
   "cell_type": "markdown",
   "id": "4672fb0f",
   "metadata": {},
   "source": [
    "### BMI Calculator Exercise\n",
    "Write a program that calculates the Body Mass Index (BMI) from a user's weight and height.\n",
    "\n",
    "The BMI is a measure of someone's weight taking into account their height. e.g. If a tall person and a short person both weigh the same amount, the short person is usually more overweight.\n",
    "\n",
    "The BMI is calculated by dividing a person's weight (in kg) by the square of their height (in m):\n",
    "\n",
    "![image.png](attachment:image.png)"
   ]
  },
  {
   "cell_type": "code",
   "execution_count": 16,
   "id": "9c4dacac",
   "metadata": {},
   "outputs": [
    {
     "name": "stdout",
     "output_type": "stream",
     "text": [
      "Enter your height: \t5.9\n",
      "ENter your weight: \t85\n",
      "Your BMI is  2\n"
     ]
    }
   ],
   "source": [
    "Height = input(\"Enter your height: \\t\")\n",
    "Weight = input(\"ENter your weight: \\t\")\n",
    "\n",
    "bmi = (int(Weight)/float(Height)**2)\n",
    "\n",
    "bmi_as_int = int(bmi)\n",
    "\n",
    "print(\"Your BMI is \", str(bmi_as_int))"
   ]
  },
  {
   "cell_type": "markdown",
   "id": "5aa5fc89",
   "metadata": {},
   "source": [
    "### Number Manipulation"
   ]
  },
  {
   "cell_type": "code",
   "execution_count": 17,
   "id": "34095dba",
   "metadata": {},
   "outputs": [
    {
     "name": "stdout",
     "output_type": "stream",
     "text": [
      "2\n"
     ]
    }
   ],
   "source": [
    "print(int(8/3))"
   ]
  },
  {
   "cell_type": "code",
   "execution_count": 18,
   "id": "008e7db9",
   "metadata": {},
   "outputs": [
    {
     "name": "stdout",
     "output_type": "stream",
     "text": [
      "3\n"
     ]
    }
   ],
   "source": [
    "print(round(8/3))"
   ]
  },
  {
   "cell_type": "code",
   "execution_count": 23,
   "id": "6279f0b4",
   "metadata": {},
   "outputs": [
    {
     "name": "stdout",
     "output_type": "stream",
     "text": [
      "2\n"
     ]
    }
   ],
   "source": [
    "print(8//3)"
   ]
  },
  {
   "cell_type": "code",
   "execution_count": 24,
   "id": "d09fe5cd",
   "metadata": {},
   "outputs": [
    {
     "name": "stdout",
     "output_type": "stream",
     "text": [
      "Your score is 1\n"
     ]
    }
   ],
   "source": [
    "score = 0\n",
    "score = score + 1\n",
    "# score += 1\n",
    "\n",
    "print(\"Your score is \" + str(score))\n"
   ]
  },
  {
   "cell_type": "markdown",
   "id": "9d10fc46",
   "metadata": {},
   "source": [
    "### F-string\n",
    "f-strings (or formatted string literals) are a feature introduced in Python 3.6 that provide a convenient way to embed expressions inside string literals. F-strings are created by prefixing a string with the letter \"f\" or \"F\" and placing expressions inside curly braces {}.\n",
    "\n",
    "F-strings allow for easy string interpolation by allowing the embedding of variables and expressions directly inside a string. They are also very readable and reduce the amount of boilerplate code needed for string formatting.\n",
    "\n",
    "Here is an example of using an F-string to embed a variable:"
   ]
  },
  {
   "cell_type": "code",
   "execution_count": 25,
   "id": "d3b8a496",
   "metadata": {},
   "outputs": [],
   "source": [
    "score = 0\n",
    "height = 1.8\n",
    "isWinning = True"
   ]
  },
  {
   "cell_type": "code",
   "execution_count": 27,
   "id": "6aa652eb",
   "metadata": {},
   "outputs": [
    {
     "name": "stdout",
     "output_type": "stream",
     "text": [
      "your score is 0, your height is 1.8, and you are winning is True\n"
     ]
    }
   ],
   "source": [
    "print(f\"your score is {score}, your height is {height}, and you are winning is {isWinning}\")"
   ]
  },
  {
   "cell_type": "markdown",
   "id": "a3765d83",
   "metadata": {},
   "source": [
    "### Exercise - Life in Weeks"
   ]
  },
  {
   "cell_type": "markdown",
   "id": "c421a15d",
   "metadata": {},
   "source": [
    "Create a program using maths and f-Strings that tells us how many days, weeks, months we have left if we live until 90 years old.\n",
    "\n",
    "It will take your current age as the input and output a message with our time left in this format:\n",
    "\n",
    "You have x days, y weeks, and z months left.\n",
    "\n",
    "Where x, y and z are replaced with the actual calculated numbers."
   ]
  },
  {
   "cell_type": "code",
   "execution_count": 30,
   "id": "cc7c97d3",
   "metadata": {},
   "outputs": [
    {
     "name": "stdout",
     "output_type": "stream",
     "text": [
      "What is your current age?\t27\n",
      "You have 22995 days, 3528 weeks, and 756\n"
     ]
    }
   ],
   "source": [
    "lifespan = 90\n",
    "\n",
    "age = input(\"What is your current age?\\t\")\n",
    "remaining_years = int(lifespan) - int(age)\n",
    "months = remaining_years * 12\n",
    "weeks = remaining_years * 56\n",
    "days = remaining_years * 365\n",
    "\n",
    "print(f'You have {days} days, {weeks} weeks, and {months}')"
   ]
  },
  {
   "cell_type": "markdown",
   "id": "908b6254",
   "metadata": {},
   "source": [
    "### Project - Tip Calculator"
   ]
  },
  {
   "cell_type": "markdown",
   "id": "6425b591",
   "metadata": {},
   "source": [
    "If the bill was $150.00, split between 5 people, with 12% tip. \n",
    "\n",
    "Each person should pay (150.00 / 5) * 1.12 = 33.6\n",
    "Format the result to 2 decimal places = 33.60\n",
    "\n",
    "Tip: There are 2 ways to round a number. You might have to do some Googling to solve this."
   ]
  },
  {
   "cell_type": "code",
   "execution_count": 33,
   "id": "5bf9eebd",
   "metadata": {},
   "outputs": [
    {
     "name": "stdout",
     "output_type": "stream",
     "text": [
      "Welcome to the Tip calculator\n",
      "What was the total bill? \t150\n",
      "How much you guys want to give the waiter? 10, 12,15 ?\t12\n",
      "How many people would you like to share the bill?\t5\n",
      "Each person should pay: $33.60\n"
     ]
    }
   ],
   "source": [
    "print(\"Welcome to the Tip calculator\")\n",
    "\n",
    "bill = float(input(\"What was the total bill? \\t\"))\n",
    "\n",
    "tip = int(input(\"How much you guys want to give the waiter? 10, 12,15 ?\\t\"))\n",
    "\n",
    "people = int(input(\"How many people would you like to share the bill?\\t\"))\n",
    "\n",
    "tip_as_percent = tip/100\n",
    "\n",
    "total_tip = bill * tip_as_percent\n",
    "\n",
    "total_bill = bill + total_tip\n",
    "\n",
    "bill_per_person = total_bill/people\n",
    "\n",
    "final_amount = \"{:.2f}\".format(bill_per_person)\n",
    "\n",
    "print(f'Each person should pay: ${final_amount}')"
   ]
  }
 ],
 "metadata": {
  "kernelspec": {
   "display_name": "Python 3 (ipykernel)",
   "language": "python",
   "name": "python3"
  },
  "language_info": {
   "codemirror_mode": {
    "name": "ipython",
    "version": 3
   },
   "file_extension": ".py",
   "mimetype": "text/x-python",
   "name": "python",
   "nbconvert_exporter": "python",
   "pygments_lexer": "ipython3",
   "version": "3.8.10"
  },
  "toc": {
   "base_numbering": 1,
   "nav_menu": {},
   "number_sections": true,
   "sideBar": true,
   "skip_h1_title": false,
   "title_cell": "Table of Contents",
   "title_sidebar": "Contents",
   "toc_cell": false,
   "toc_position": {},
   "toc_section_display": true,
   "toc_window_display": false
  }
 },
 "nbformat": 4,
 "nbformat_minor": 5
}
