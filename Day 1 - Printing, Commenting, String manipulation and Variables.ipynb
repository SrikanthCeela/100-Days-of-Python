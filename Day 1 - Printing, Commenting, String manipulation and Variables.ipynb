{
 "cells": [
  {
   "cell_type": "markdown",
   "id": "d3ef5d89",
   "metadata": {},
   "source": [
    "### Print() function"
   ]
  },
  {
   "cell_type": "markdown",
   "id": "fc37c803",
   "metadata": {},
   "source": [
    "<div class=\"alert alert-block alert-info\">\n",
    "The print() function is used to display output on the console or terminal. \n",
    "It takes one or more arguments, which can be variables, constants, or expressions\n",
    "</div>"
   ]
  },
  {
   "cell_type": "code",
   "execution_count": 13,
   "id": "38340c12",
   "metadata": {},
   "outputs": [
    {
     "name": "stdout",
     "output_type": "stream",
     "text": [
      "Hello World!\n"
     ]
    }
   ],
   "source": [
    "print(\"Hello World!\")"
   ]
  },
  {
   "cell_type": "markdown",
   "id": "9eb08baa",
   "metadata": {},
   "source": [
    "### Creating New Line"
   ]
  },
  {
   "cell_type": "code",
   "execution_count": 3,
   "id": "b51fbbb4",
   "metadata": {},
   "outputs": [
    {
     "name": "stdout",
     "output_type": "stream",
     "text": [
      "Hello Srikanth \n",
      "How are you?\n"
     ]
    }
   ],
   "source": [
    "print(\"Hello Srikanth \\nHow are you?\") #\\n - creates new line"
   ]
  },
  {
   "cell_type": "markdown",
   "id": "722df006",
   "metadata": {},
   "source": [
    "### Concatenate the String"
   ]
  },
  {
   "cell_type": "code",
   "execution_count": 4,
   "id": "289893f0",
   "metadata": {},
   "outputs": [
    {
     "name": "stdout",
     "output_type": "stream",
     "text": [
      "HelloWorld!\n",
      "Hello World!\n",
      "Hello World!\n"
     ]
    }
   ],
   "source": [
    "\n",
    "print(\"Hello\" + \"World!\")\n",
    "print(\"Hello \" + \"World!\")\n",
    "print(\"Hello\" + \" World!\")"
   ]
  },
  {
   "cell_type": "markdown",
   "id": "13e2ffd8",
   "metadata": {},
   "source": [
    "### Input() "
   ]
  },
  {
   "cell_type": "markdown",
   "id": "2d8c02de",
   "metadata": {},
   "source": [
    "<div class=\"alert alert-block alert-info\">\n",
    "The input() function is used to get input from the user via the console or terminal. \n",
    "It takes an optional prompt string as an argument, \n",
    "which is displayed on the console before waiting for the user to input something. \n",
    "The function returns the user input as a string.\n",
    "</div>"
   ]
  },
  {
   "cell_type": "code",
   "execution_count": 6,
   "id": "e5e64f99",
   "metadata": {},
   "outputs": [
    {
     "name": "stdout",
     "output_type": "stream",
     "text": [
      "Your name \tSrikanth\n",
      "Hello Srikanth\n"
     ]
    }
   ],
   "source": [
    "#Input function\n",
    "\n",
    "print(\"Hello \" + input(\"Your name \\t\")) #\\t - Tab Space\n",
    "\n",
    "\n"
   ]
  },
  {
   "cell_type": "markdown",
   "id": "48a6d6bf",
   "metadata": {},
   "source": [
    "### Length"
   ]
  },
  {
   "cell_type": "markdown",
   "id": "9778c9fe",
   "metadata": {},
   "source": [
    "<div class=\"alert alert-block alert-info\">\n",
    "In Python, the len() function is used to get the length or the number of items in a sequence\n",
    ", such as a string, list, tuple, or dictionary.\n",
    "The function takes an argument, which is the sequence you want to get the length of\n",
    ", and returns the number of items in the sequence.\n",
    "</div>"
   ]
  },
  {
   "cell_type": "code",
   "execution_count": 8,
   "id": "37413a9d",
   "metadata": {},
   "outputs": [
    {
     "name": "stdout",
     "output_type": "stream",
     "text": [
      "What's your name? \tSrikanth\n",
      "8\n"
     ]
    }
   ],
   "source": [
    "print(len(input(\"What's your name? \\t\")))"
   ]
  },
  {
   "cell_type": "code",
   "execution_count": 10,
   "id": "3e79a881",
   "metadata": {},
   "outputs": [
    {
     "name": "stdout",
     "output_type": "stream",
     "text": [
      "name? \tsrikanth yadav\n",
      "The Character length of your name is 14\n"
     ]
    }
   ],
   "source": [
    "print(\"The Character length of your name is \" + str(len(input(\"name? \\t\"))))"
   ]
  },
  {
   "cell_type": "markdown",
   "id": "b8838569",
   "metadata": {},
   "source": [
    "### Variables"
   ]
  },
  {
   "cell_type": "markdown",
   "id": "e4544630",
   "metadata": {},
   "source": [
    "<div class=\"alert alert-block alert-info\">\n",
    "In Python, a variable is a named storage location that can store a value of any data type. Variables are used to store values, which can be retrieved and manipulated later in the program.\n",
    "\n",
    "    \n",
    "In Python, you do not need to declare a variable before using it. You can simply assign a value to a variable using the assignment operator (=), and Python will automatically create the variable for you.\n",
    "    \n",
    "Variables in Python can store different types of data, such as strings, integers, floating-point numbers, and more.\n",
    "</div>"
   ]
  },
  {
   "cell_type": "code",
   "execution_count": 1,
   "id": "5d54f939",
   "metadata": {},
   "outputs": [
    {
     "name": "stdout",
     "output_type": "stream",
     "text": [
      "What's your name?Srikanth\n",
      "Hello Srikanth\n"
     ]
    }
   ],
   "source": [
    "name = input(\"What's your name?\")\n",
    "print(\"Hello\",name)"
   ]
  },
  {
   "cell_type": "markdown",
   "id": "23396839",
   "metadata": {},
   "source": [
    "### Index "
   ]
  },
  {
   "cell_type": "markdown",
   "id": "c4349430",
   "metadata": {},
   "source": [
    "<div class=\"alert alert-block alert-info\">\n",
    "In Python, an index refers to the position of an item within a collection of items, such as a list, tuple, or string. The index of an item is an integer value that represents its position within the collection, starting from zero.\n",
    "</div>\n"
   ]
  },
  {
   "cell_type": "code",
   "execution_count": 2,
   "id": "95829b05",
   "metadata": {},
   "outputs": [],
   "source": [
    "my_name = 'srikanth'"
   ]
  },
  {
   "cell_type": "code",
   "execution_count": 4,
   "id": "60539cba",
   "metadata": {},
   "outputs": [
    {
     "name": "stdout",
     "output_type": "stream",
     "text": [
      "s\n"
     ]
    }
   ],
   "source": [
    "print(my_name[0])"
   ]
  },
  {
   "cell_type": "code",
   "execution_count": 6,
   "id": "b6a0c390",
   "metadata": {},
   "outputs": [
    {
     "data": {
      "text/plain": [
       "'h'"
      ]
     },
     "execution_count": 6,
     "metadata": {},
     "output_type": "execute_result"
    }
   ],
   "source": [
    "my_name[-1]"
   ]
  },
  {
   "cell_type": "code",
   "execution_count": 7,
   "id": "149f699d",
   "metadata": {},
   "outputs": [
    {
     "name": "stdout",
     "output_type": "stream",
     "text": [
      "h\n"
     ]
    }
   ],
   "source": [
    "print(my_name[-1])"
   ]
  },
  {
   "cell_type": "markdown",
   "id": "1a5efd68",
   "metadata": {},
   "source": [
    "### Day 1 - Username Generator for cognizant company"
   ]
  },
  {
   "cell_type": "code",
   "execution_count": 10,
   "id": "a4c547c2",
   "metadata": {},
   "outputs": [
    {
     "name": "stdout",
     "output_type": "stream",
     "text": [
      "Your first name: \tsri\n",
      "Your Last name: \tceela\n",
      "your username is sceela@cognizant.com\n"
     ]
    }
   ],
   "source": [
    "#Ask the User about his first name and last name to generate username as per company rules\n",
    "#add the first letter of the firstname with the lastname and combine it with the '@cognizant.com'\n",
    "\n",
    "first_name = input(\"Your first name: \\t\")\n",
    "last_name = input(\"Your Last name: \\t\")\n",
    "\n",
    "company_domain = '@cognizant.com'\n",
    "\n",
    "print(\"your username is\", first_name[0] + last_name + company_domain)"
   ]
  },
  {
   "cell_type": "code",
   "execution_count": null,
   "id": "7bed6448",
   "metadata": {},
   "outputs": [],
   "source": []
  }
 ],
 "metadata": {
  "kernelspec": {
   "display_name": "Python 3 (ipykernel)",
   "language": "python",
   "name": "python3"
  },
  "language_info": {
   "codemirror_mode": {
    "name": "ipython",
    "version": 3
   },
   "file_extension": ".py",
   "mimetype": "text/x-python",
   "name": "python",
   "nbconvert_exporter": "python",
   "pygments_lexer": "ipython3",
   "version": "3.8.10"
  },
  "toc": {
   "base_numbering": 1,
   "nav_menu": {},
   "number_sections": true,
   "sideBar": true,
   "skip_h1_title": false,
   "title_cell": "Table of Contents",
   "title_sidebar": "Contents",
   "toc_cell": false,
   "toc_position": {},
   "toc_section_display": true,
   "toc_window_display": false
  }
 },
 "nbformat": 4,
 "nbformat_minor": 5
}
