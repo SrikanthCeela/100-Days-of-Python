{
 "cells": [
  {
   "cell_type": "markdown",
   "id": "7dfa5b33",
   "metadata": {},
   "source": [
    "### For Loop\n",
    "\n",
    "In Python, a for loop is used to iterate over a sequence of elements, such as a list, tuple, string, or any other iterable object. The loop will execute a block of code repeatedly for each item in the sequence.\n",
    "\n",
    "Here's the basic syntax of a for loop in Python:\n",
    "\n"
   ]
  },
  {
   "cell_type": "code",
   "execution_count": null,
   "id": "3d1bb08b",
   "metadata": {},
   "outputs": [],
   "source": [
    "for item in sequence:\n",
    "    # code to be executed\n"
   ]
  },
  {
   "cell_type": "markdown",
   "id": "d1587ef9",
   "metadata": {},
   "source": [
    "\n",
    "Let's break down the components of the for loop:\n",
    "\n",
    "- The for keyword is used to start the loop statement.\n",
    "- item is a variable that represents the current element of the sequence that we're iterating over. You can choose any valid variable name for this.\n",
    "- sequence is the iterable object that we want to iterate over. It can be a list, tuple, string, or any other iterable.\n",
    "- The colon (:) indicates the start of the loop block. All the code indented under the loop will be executed in each iteration.\n",
    "- The code inside the loop block is the code that will be executed for each item in the sequence.\n",
    "\n",
    "Here's a simple example to illustrate how a for loop works:"
   ]
  },
  {
   "cell_type": "code",
   "execution_count": 1,
   "id": "cb9c53a9",
   "metadata": {},
   "outputs": [
    {
     "name": "stdout",
     "output_type": "stream",
     "text": [
      "apple\n",
      "banana\n",
      "cherry\n"
     ]
    }
   ],
   "source": [
    "fruits = ['apple', 'banana', 'cherry']\n",
    "\n",
    "for fruit in fruits:\n",
    "    print(fruit)\n"
   ]
  },
  {
   "cell_type": "markdown",
   "id": "0061e1d4",
   "metadata": {},
   "source": [
    "In this example, we have a list of fruits. The for loop iterates over each item in the fruits list, and the current fruit is assigned to the fruit variable. The print(fruit) statement will be executed for each fruit, printing its name to the console."
   ]
  },
  {
   "cell_type": "code",
   "execution_count": 3,
   "id": "3873c253",
   "metadata": {},
   "outputs": [
    {
     "name": "stdout",
     "output_type": "stream",
     "text": [
      "Apple\n",
      "Apple Pie\n",
      "Peach\n",
      "Peach Pie\n",
      "Pear\n",
      "Pear Pie\n",
      "['Apple', 'Peach', 'Pear']\n"
     ]
    }
   ],
   "source": [
    "fruits = ['Apple', 'Peach', 'Pear']\n",
    "\n",
    "for fruit in fruits:\n",
    "    print(fruit)\n",
    "    print(fruit + \" Pie\") #inside for loop\n",
    "print(fruits) #outside for loop"
   ]
  },
  {
   "cell_type": "markdown",
   "id": "3a1a5c06",
   "metadata": {},
   "source": [
    "### For loops with range() fucntion"
   ]
  },
  {
   "cell_type": "code",
   "execution_count": 13,
   "id": "13458276",
   "metadata": {},
   "outputs": [
    {
     "name": "stdout",
     "output_type": "stream",
     "text": [
      "1 2 3 4 5 6 7 8 9 "
     ]
    }
   ],
   "source": [
    "for number in range(1,10):\n",
    "    print(number, end=\" \")"
   ]
  },
  {
   "cell_type": "code",
   "execution_count": 14,
   "id": "b0d193a2",
   "metadata": {},
   "outputs": [
    {
     "name": "stdout",
     "output_type": "stream",
     "text": [
      "1 4 7 10 "
     ]
    }
   ],
   "source": [
    "for number1 in range(1,11,3):\n",
    "    print(number1, end =\" \")"
   ]
  },
  {
   "cell_type": "markdown",
   "id": "4309178f",
   "metadata": {},
   "source": [
    "### Exercise: Add all the numbers from 1 to 100"
   ]
  },
  {
   "cell_type": "code",
   "execution_count": 16,
   "id": "da6ebd53",
   "metadata": {},
   "outputs": [
    {
     "name": "stdout",
     "output_type": "stream",
     "text": [
      "5050\n"
     ]
    }
   ],
   "source": [
    "total = 0\n",
    "\n",
    "for number in range(1,101):\n",
    "    total += number\n",
    "print(total)"
   ]
  },
  {
   "cell_type": "markdown",
   "id": "e3eb9aca",
   "metadata": {},
   "source": [
    "### Exercise: Average height\n",
    "\n",
    "You are going to write a program that calculates the average student height from a List of heights.\n",
    "\n",
    "e.g. student_heights = [180, 124, 165, 173, 189, 169, 146]\n",
    "\n",
    "The average height can be calculated by adding all the heights together and dividing by the total number of heights.\n",
    "\n",
    "e.g.\n",
    "\n",
    "180 + 124 + 165 + 173 + 189 + 169 + 146 = 1146\n",
    "\n",
    "There are a total of 7 heights in student_heights\n",
    "\n",
    "1146 ÷ 7 = 163.71428571428572\n",
    "\n",
    "Average height rounded to the nearest whole number = 164\n",
    "\n",
    "Important You should not use the sum() or len() functions in your answer. You should try to replicate their functionality using what you have learnt about for loops."
   ]
  },
  {
   "cell_type": "code",
   "execution_count": 10,
   "id": "3674159b",
   "metadata": {},
   "outputs": [
    {
     "name": "stdout",
     "output_type": "stream",
     "text": [
      "Input a list of student heights 156 178 165 171 187\n",
      "the average height of students listed is 171\n"
     ]
    }
   ],
   "source": [
    "student_heights = input(\"Input a list of student heights \").split()\n",
    "\n",
    "for n in range(0, len(student_heights)):\n",
    "    student_heights[n] = int(student_heights[n])\n",
    "\n",
    "total_height = 0\n",
    "for height in student_heights:\n",
    "    total_height += height\n",
    "\n",
    "\n",
    "number_of_students = 0\n",
    "for student in student_heights:\n",
    "    number_of_students += 1\n",
    "\n",
    "average_height = round(total_height / number_of_students)\n",
    "print(f'the average height of students listed is {average_height}')"
   ]
  },
  {
   "cell_type": "markdown",
   "id": "633ed001",
   "metadata": {},
   "source": [
    "### Exercise: High Score\n",
    "\n",
    "You are going to write a program that calculates the highest score from a List of scores.\n",
    "\n",
    "e.g. student_scores = [78, 65, 89, 86, 55, 91, 64, 89]\n",
    "\n",
    "Important you are not allowed to use the max or min functions. The output words must match the example. i.e\n",
    "\n",
    "The highest score in the class is: x"
   ]
  },
  {
   "cell_type": "code",
   "execution_count": 7,
   "id": "82ed85b7",
   "metadata": {},
   "outputs": [
    {
     "name": "stdout",
     "output_type": "stream",
     "text": [
      "Input a list of student scores 78 65 89 55 91 64 89\n",
      "[78, 65, 89, 55, 91, 64, 89]\n",
      "The highest score in the class is: 91\n"
     ]
    }
   ],
   "source": [
    "student_scores = input(\"Input a list of student scores \").split()\n",
    "\n",
    "for n in range(0, len(student_scores)):\n",
    "    student_scores[n] = int(student_scores[n])\n",
    "print(student_scores)\n",
    "\n",
    "highest_score = 0\n",
    "for score in student_scores:\n",
    "    if score > highest_score:\n",
    "        highest_score = score\n",
    "print(f'The highest score in the class is: {highest_score}')"
   ]
  },
  {
   "cell_type": "markdown",
   "id": "8415056c",
   "metadata": {},
   "source": [
    "### Adding Even Numbers\n",
    "\n",
    "You are hoing to write a program that calcualtes the sum of all the even numbers from 1 to 100. including 1 and 100\n",
    "\n",
    "e.g. 2 + 4 + 6 + .....+98+100"
   ]
  },
  {
   "cell_type": "code",
   "execution_count": 19,
   "id": "8c565408",
   "metadata": {},
   "outputs": [
    {
     "name": "stdout",
     "output_type": "stream",
     "text": [
      "2550\n"
     ]
    }
   ],
   "source": [
    "total = 0\n",
    "\n",
    "for number in range(2,101):\n",
    "    if number % 2 == 0:\n",
    "        total += number\n",
    "print(total)\n",
    "    "
   ]
  },
  {
   "cell_type": "code",
   "execution_count": 21,
   "id": "ddde24df",
   "metadata": {},
   "outputs": [
    {
     "name": "stdout",
     "output_type": "stream",
     "text": [
      "2550\n"
     ]
    }
   ],
   "source": [
    "#method 2\n",
    "\n",
    "total2 = 0\n",
    "\n",
    "for number in range(2,101,2):\n",
    "    total2 += number\n",
    "print(total2)"
   ]
  },
  {
   "cell_type": "markdown",
   "id": "85d49435",
   "metadata": {},
   "source": [
    "### Exercise: The FizzBuzz Job Interview Question\n",
    "\n",
    "You are going to write a program that automatically prints the solution to the FizzBuzz game.\n",
    "\n",
    "Your program should print each number from 1 to 20 in turn.\n",
    "\n",
    "When the number is divisible by 3 then instead of printing the number it should print \"Fizz\".\n",
    "\n",
    "When the number is divisible by 5, then instead of printing the number it should print \"Buzz\".`\n",
    "\n",
    "  And if the number is divisible by both 3 and 5 e.g. 15 then instead of the number it should print \"FizzBuzz\""
   ]
  },
  {
   "cell_type": "code",
   "execution_count": 35,
   "id": "76ba53e0",
   "metadata": {},
   "outputs": [
    {
     "name": "stdout",
     "output_type": "stream",
     "text": [
      "1\n",
      "2\n",
      "Fizz\n",
      "4\n",
      "Buzz\n",
      "Fizz\n",
      "7\n",
      "8\n",
      "Fizz\n",
      "Buzz\n",
      "11\n",
      "Fizz\n",
      "13\n",
      "14\n",
      "FizzBuzz\n",
      "16\n",
      "17\n",
      "Fizz\n",
      "19\n",
      "Buzz\n"
     ]
    }
   ],
   "source": [
    "for number in range(1,21):\n",
    "    if number % 3 == 0 and number % 5 == 0:\n",
    "        print(\"FizzBuzz\")\n",
    "    elif number % 3 == 0:\n",
    "        print(\"Fizz\")\n",
    "    elif number % 5 == 0:\n",
    "        print(\"Buzz\")\n",
    "    else:\n",
    "        print(number)"
   ]
  },
  {
   "cell_type": "code",
   "execution_count": null,
   "id": "e92d8837",
   "metadata": {},
   "outputs": [],
   "source": []
  },
  {
   "cell_type": "code",
   "execution_count": null,
   "id": "9371e1fb",
   "metadata": {},
   "outputs": [],
   "source": []
  },
  {
   "cell_type": "markdown",
   "id": "b668b612",
   "metadata": {},
   "source": [
    "### Project: Password Generator"
   ]
  },
  {
   "cell_type": "code",
   "execution_count": 28,
   "id": "383042cf",
   "metadata": {},
   "outputs": [
    {
     "name": "stdout",
     "output_type": "stream",
     "text": [
      "Welcome to the PyPassword Generator!\n",
      "How many letters would you like in your password?\n",
      "4\n",
      "How many symbols would you like?\n",
      "1\n",
      "How many numbers would you like?\n",
      "1\n",
      " RDRm%5\n"
     ]
    }
   ],
   "source": [
    "import random\n",
    "letters = ['a', 'b', 'c', 'd', 'e', 'f', 'g', 'h', 'i', 'j', 'k', 'l', 'm', 'n', 'o', 'p', 'q', 'r', 's', 't'\n",
    "           , 'u', 'v', 'w', 'x', 'y', 'z'\n",
    "           , 'A', 'B', 'C', 'D', 'E', 'F', 'G', 'H', 'I', 'J', 'K', 'L', 'M', 'N', 'O', 'P', 'Q', 'R', 'S', 'T'\n",
    "           , 'U', 'V', 'W', 'X', 'Y', 'Z']\n",
    "numbers = ['0', '1', '2', '3', '4', '5', '6', '7', '8', '9']\n",
    "symbols = ['!', '#', '$', '%', '&', '(', ')', '*', '+']\n",
    "\n",
    "print(\"Welcome to the PyPassword Generator!\")\n",
    "nr_letters= int(input(\"How many letters would you like in your password?\\n\")) \n",
    "nr_symbols = int(input(f\"How many symbols would you like?\\n\"))\n",
    "nr_numbers = int(input(f\"How many numbers would you like?\\n\"))\n",
    "\n",
    "#Easy Level - Order not randomized - it limits the strength of your password\n",
    "password = \" \"\n",
    "\n",
    "for char in range(1, nr_letters + 1):\n",
    "    password += random.choice(letters)\n",
    "\n",
    "for char in range(1, nr_symbols + 1):\n",
    "    password += random.choice(symbols)\n",
    "\n",
    "for char in range(1, nr_numbers + 1):\n",
    "    password += random.choice(numbers)\n",
    "\n",
    "print(password)"
   ]
  },
  {
   "cell_type": "code",
   "execution_count": 34,
   "id": "22aee792",
   "metadata": {},
   "outputs": [
    {
     "name": "stdout",
     "output_type": "stream",
     "text": [
      "Welcome to the PyPassword Generator!\n",
      "How many letters would you like in your password?\n",
      "3\n",
      "How many symbols would you like?\n",
      "4\n",
      "How many numbers would you like?\n",
      "5\n",
      "Your generated password is ['R', 'R', 'r', '(', '(', '!', '+', '9', '6', '0', '8', '2']\n",
      "Your generated password which is randomized is ['(', '(', '+', '6', 'R', 'r', '9', '8', 'R', '2', '0', '!']\n",
      "Your final password is ((+6Rr98R20!\n"
     ]
    }
   ],
   "source": [
    "\n",
    "#Hard Level - Order of characters randomised\n",
    "\n",
    "import random\n",
    "letters = ['a', 'b', 'c', 'd', 'e', 'f', 'g', 'h', 'i', 'j', 'k', 'l', 'm', 'n', 'o', 'p', 'q', 'r', 's', 't'\n",
    "           , 'u', 'v', 'w', 'x', 'y', 'z'\n",
    "           , 'A', 'B', 'C', 'D', 'E', 'F', 'G', 'H', 'I', 'J', 'K', 'L', 'M', 'N', 'O', 'P', 'Q', 'R', 'S', 'T'\n",
    "           , 'U', 'V', 'W', 'X', 'Y', 'Z']\n",
    "numbers = ['0', '1', '2', '3', '4', '5', '6', '7', '8', '9']\n",
    "symbols = ['!', '#', '$', '%', '&', '(', ')', '*', '+']\n",
    "\n",
    "print(\"Welcome to the PyPassword Generator!\")\n",
    "nr_letters= int(input(\"How many letters would you like in your password?\\n\")) \n",
    "nr_symbols = int(input(f\"How many symbols would you like?\\n\"))\n",
    "nr_numbers = int(input(f\"How many numbers would you like?\\n\"))\n",
    "\n",
    "password_list = []\n",
    "\n",
    "for char in range(1, nr_letters + 1):\n",
    "    password_list += random.choice(letters)\n",
    "\n",
    "for char in range(1, nr_symbols + 1):\n",
    "    password_list += random.choice(symbols)\n",
    "\n",
    "for char in range(1, nr_numbers + 1):\n",
    "    password_list += random.choice(numbers)\n",
    "\n",
    "print(f'Your generated password is {password_list}')\n",
    "\n",
    "random.shuffle(password_list)\n",
    "print(f'Your generated password which is randomized is {password_list}')\n",
    "\n",
    "password = \"\"\n",
    "for char in password_list:\n",
    "    password += char\n",
    "\n",
    "print(f'Your final password is {password}')"
   ]
  }
 ],
 "metadata": {
  "kernelspec": {
   "display_name": "Python 3 (ipykernel)",
   "language": "python",
   "name": "python3"
  },
  "language_info": {
   "codemirror_mode": {
    "name": "ipython",
    "version": 3
   },
   "file_extension": ".py",
   "mimetype": "text/x-python",
   "name": "python",
   "nbconvert_exporter": "python",
   "pygments_lexer": "ipython3",
   "version": "3.8.10"
  },
  "toc": {
   "base_numbering": 1,
   "nav_menu": {},
   "number_sections": true,
   "sideBar": true,
   "skip_h1_title": false,
   "title_cell": "Table of Contents",
   "title_sidebar": "Contents",
   "toc_cell": false,
   "toc_position": {},
   "toc_section_display": true,
   "toc_window_display": false
  }
 },
 "nbformat": 4,
 "nbformat_minor": 5
}
